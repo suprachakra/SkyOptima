{
 "cells": [
  {
   "cell_type": "markdown",
   "id": "intro",
   "metadata": {},
   "source": [
    "# Exploratory Analysis for SkyOptima\n",
    "\n",
    "This notebook provides an initial exploratory analysis of the SkyOptima data.\n",
    "It loads sample data, performs basic visualizations, and computes preliminary statistics."
   ]
  },
  {
   "cell_type": "code",
   "execution_count": null,
   "id": "load_data",
   "metadata": {},
   "outputs": [],
   "source": [
    "import pandas as pd\n",
    "import matplotlib.pyplot as plt\n",
    "\n",
    "# Load a sample processed revenue data\n",
    "df = pd.read_csv('../data/processed/revenue_processed.csv', parse_dates=['Date'])\n",
    "df.sort_values('Date', inplace=True)\n",
    "\n",
    "print(df.head())\n",
    "\n",
    "# Plot Total Revenue over time\n",
    "plt.figure(figsize=(10, 5))\n",
    "plt.plot(df['Date'], df['TotalRevenue'], marker='o')\n",
    "plt.title('Total Revenue Over Time')\n",
    "plt.xlabel('Date')\n",
    "plt.ylabel('Total Revenue')\n",
    "plt.grid(True)\n",
    "plt.show()"
   ]
  }
 ],
 "metadata": {
  "kernelspec": {
   "display_name": "Python 3",
   "language": "python",
   "name": "python3"
  },
  "language_info": {
   "name": "python",
   "version": "3.x"
  }
 },
 "nbformat": 4,
 "nbformat_minor": 5
}
